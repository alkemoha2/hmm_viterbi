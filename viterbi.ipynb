{
  "nbformat": 4,
  "nbformat_minor": 0,
  "metadata": {
    "colab": {
      "name": "viterbi.ipynb",
      "provenance": [],
      "collapsed_sections": [],
      "authorship_tag": "ABX9TyMMaTKcRc/lMLTYV56KNXDy",
      "include_colab_link": true
    },
    "kernelspec": {
      "name": "python3",
      "display_name": "Python 3"
    }
  },
  "cells": [
    {
      "cell_type": "markdown",
      "metadata": {
        "id": "view-in-github",
        "colab_type": "text"
      },
      "source": [
        "<a href=\"https://colab.research.google.com/github/alkemoha2/hmm_viterbi/blob/main/viterbi.ipynb\" target=\"_parent\"><img src=\"https://colab.research.google.com/assets/colab-badge.svg\" alt=\"Open In Colab\"/></a>"
      ]
    },
    {
      "cell_type": "code",
      "metadata": {
        "id": "scGyAlOkwBlC"
      },
      "source": [
        "import numpy as np\n",
        "\n",
        "def viterbi1(y, A, B, Pi=None):\n",
        "    \"\"\"\n",
        "    Return the MAP estimate of state trajectory of Hidden Markov Model.\n",
        "\n",
        "    Parameters\n",
        "    ----------\n",
        "    y : array (T,)\n",
        "        Observation state sequence. int dtype.\n",
        "    A : array (K, K)\n",
        "        State transition matrix. See HiddenMarkovModel.state_transition  for\n",
        "        details.\n",
        "    B : array (K, M)\n",
        "        Emission matrix. See HiddenMarkovModel.emission for details.\n",
        "    Pi: optional, (K,)\n",
        "        Initial state probabilities: Pi[i] is the probability x[0] == i. If\n",
        "        None, uniform initial distribution is assumed (Pi[:] == 1/K).\n",
        "\n",
        "    Returns\n",
        "    -------\n",
        "    x : array (T,)\n",
        "        Maximum a posteriori probability estimate of hidden state trajectory,\n",
        "        conditioned on observation sequence y under the model parameters A, B,\n",
        "        Pi.\n",
        "    T1: array (K, T)\n",
        "        the probability of the most likely path so far\n",
        "    T2: array (K, T)\n",
        "        the x_j-1 of the most likely path so far\n",
        "    \"\"\"\n",
        "    # Cardinality of the state space\n",
        "    K = A.shape[0]\n",
        "    # Initialize the priors with default (uniform dist) if not given by caller\n",
        "    Pi = Pi if Pi is not None else np.full(K, 1 / K)\n",
        "    T = len(y)\n",
        "    T1 = np.empty((K, T), 'd')\n",
        "    T2 = np.empty((K, T), 'B')\n",
        "\n",
        "    # Initilaize the tracking tables from first observation\n",
        "    T1[:, 0] = Pi * B[:, y[0]]\n",
        "    T2[:, 0] = 0\n",
        "\n",
        "    # Iterate throught the observations updating the tracking tables\n",
        "    for i in range(1, T):\n",
        "        T1[:, i] = np.max(T1[:, i - 1] * A.T * B[np.newaxis, :, y[i]].T, 1)\n",
        "        T2[:, i] = np.argmax(T1[:, i - 1] * A.T, 1)\n",
        "\n",
        "    # Build the output, optimal model trajectory\n",
        "    x = np.empty(T, 'B')\n",
        "    x[-1] = np.argmax(T1[:, T - 1])\n",
        "    for i in reversed(range(1, T)):\n",
        "        x[i - 1] = T2[x[i], i]\n",
        "\n",
        "    return x, T1, T2"
      ],
      "execution_count": null,
      "outputs": []
    },
    {
      "cell_type": "code",
      "metadata": {
        "colab": {
          "base_uri": "https://localhost:8080/"
        },
        "id": "KvlmjoNwZBNb",
        "outputId": "e5f12ea8-703f-499c-a4bf-199c575a4378"
      },
      "source": [
        "# Define model parameters\n",
        "A = np.array([[0.18, .01, 0.8, .01], \n",
        "              [0.9, 0, .05,.05], \n",
        "              [0.4, 0.5, 0.05,.05],\n",
        "              [0.4, 0.5, 0.05,.05]])\n",
        "\n",
        "C = np.array([0.25, 0.25, 0.25,0.25])\n",
        "\n",
        "B = np.array([[0.1, 0.8, 0.2,.8], \n",
        "              [0.1, 0.1, 0.2,.1], \n",
        "              [0.8, 0.1, 0.6,.1]])\n",
        "Bt = np.transpose(B)\n",
        "\n",
        "O = np.array([0,1,2]).astype(np.int32)\n",
        "\n",
        "# Apply Viterbi algorithm\n",
        "#S_opt, D, E = viterbi1(O,A,Bt, C)\n",
        "S_opt, D, E = viterbiSum(O,A,Bt, C)\n",
        "#\n",
        "print('Observation sequence:   O = ', O)\n",
        "print('Optimal state sequence: S = ', S_opt)\n",
        "np.set_printoptions(formatter={'float': \"{: 7.4f}\".format})\n",
        "print('D =', D, sep='\\n')\n",
        "np.set_printoptions(formatter={'float': \"{: 7.0f}\".format})\n",
        "print('E =', E, sep='\\n')"
      ],
      "execution_count": null,
      "outputs": [
        {
          "output_type": "stream",
          "text": [
            "Observation sequence:   O =  [0 1 2]\n",
            "Optimal state sequence: S =  [3 1 0]\n",
            "D =\n",
            "[[ 0.0250  0.0285  0.0166]\n",
            " [ 0.2000  0.0125  0.0006]\n",
            " [ 0.0500  0.0085  0.0144]\n",
            " [ 0.2000  0.0023  0.0001]]\n",
            "E =\n",
            "[[0 1 1]\n",
            " [0 3 2]\n",
            " [0 0 0]\n",
            " [0 1 1]]\n"
          ],
          "name": "stdout"
        }
      ]
    },
    {
      "cell_type": "code",
      "metadata": {
        "colab": {
          "base_uri": "https://localhost:8080/"
        },
        "id": "zAlNFKsDzB8t",
        "outputId": "20c654f3-9824-4607-d38a-6166ec6db785"
      },
      "source": [
        "# Define model parameters\n",
        "A = np.array([[0.8, 0.1, 0.1], \n",
        "              [0.2, 0.7, 0.1], \n",
        "              [0.1, 0.3, 0.6]])\n",
        "\n",
        "C = np.array([0.6, 0.2, 0.2])\n",
        "\n",
        "B = np.array([[0.7, 0.0, 0.3], \n",
        "              [0.1, 0.9, 0.0], \n",
        "              [0.0, 0.2, 0.8]])\n",
        "\n",
        "\n",
        "O = np.array([0, 2, 0, 2, 2, 1]).astype(np.int32)\n",
        "\n",
        "# Apply Viterbi algorithm\n",
        "S_opt, D, E = viterbi1(O,A,B, C)\n",
        "#\n",
        "print('Observation sequence:   O = ', O)\n",
        "print('Optimal state sequence: S = ', S_opt)\n",
        "np.set_printoptions(formatter={'float': \"{: 7.4f}\".format})\n",
        "print('D =', D, sep='\\n')\n",
        "np.set_printoptions(formatter={'float': \"{: 7.0f}\".format})\n",
        "print('E =', E, sep='\\n')"
      ],
      "execution_count": null,
      "outputs": [
        {
          "output_type": "stream",
          "text": [
            "Observation sequence:   O =  [0 2 0 2 2 1]\n",
            "Optimal state sequence: S =  [0 0 0 2 2 1]\n",
            "D =\n",
            "[[ 0.4200  0.1008  0.0564  0.0135  0.0033  0.0000]\n",
            " [ 0.0200  0.0000  0.0010  0.0000  0.0000  0.0006]\n",
            " [ 0.0000  0.0336  0.0000  0.0045  0.0022  0.0003]]\n",
            "E =\n",
            "[[0 0 0 0 0 0]\n",
            " [0 0 0 0 0 2]\n",
            " [0 0 2 0 2 2]]\n"
          ],
          "name": "stdout"
        }
      ]
    },
    {
      "cell_type": "code",
      "metadata": {
        "colab": {
          "base_uri": "https://localhost:8080/"
        },
        "id": "wDd_e_NKzP3R",
        "outputId": "3713d84f-75c8-4082-abbb-0c66b1a1ae7d"
      },
      "source": [
        "# Define model parameters\n",
        "A = np.array([[0.7, 0.3], \n",
        "              [0.4, 0.6]])\n",
        "\n",
        "C = np.array([0.6, 0.4])\n",
        "\n",
        "B = np.array([[0.1, 0.4, 0.5], \n",
        "              [0.6, 0.3, 0.1]])\n",
        "\n",
        "\n",
        "O = np.array([1, 2, 0]).astype(np.int32)\n",
        "\n",
        "# Apply Viterbi algorithm\n",
        "S_opt, D, E = viterbi1(O,A,B, C)\n",
        "#\n",
        "print('Observation sequence:   O = ', O)\n",
        "print('Optimal state sequence: S = ', S_opt)\n",
        "np.set_printoptions(formatter={'float': \"{: 7.4f}\".format})\n",
        "print('D =', D, sep='\\n')\n",
        "np.set_printoptions(formatter={'float': \"{: 7.0f}\".format})\n",
        "print('E =', E, sep='\\n')"
      ],
      "execution_count": null,
      "outputs": [
        {
          "output_type": "stream",
          "text": [
            "Observation sequence:   O =  [1 2 0]\n",
            "Optimal state sequence: S =  [0 0 1]\n",
            "D =\n",
            "[[ 0.2400  0.0840  0.0059]\n",
            " [ 0.1200  0.0072  0.0151]]\n",
            "E =\n",
            "[[0 0 0]\n",
            " [0 0 0]]\n"
          ],
          "name": "stdout"
        }
      ]
    },
    {
      "cell_type": "code",
      "metadata": {
        "id": "uSKxXME-z7aD"
      },
      "source": [
        "import numpy as np\n",
        "\n",
        "def viterbiSum(y, A, B, Pi=None):\n",
        "    \"\"\"\n",
        "    Return the MAP estimate of state trajectory of Hidden Markov Model.\n",
        "\n",
        "    Parameters\n",
        "    ----------\n",
        "    y : array (T,)\n",
        "        Observation state sequence. int dtype.\n",
        "    A : array (K, K)\n",
        "        State transition matrix. See HiddenMarkovModel.state_transition  for\n",
        "        details.\n",
        "    B : array (K, M)\n",
        "        Emission matrix. See HiddenMarkovModel.emission for details.\n",
        "    Pi: optional, (K,)\n",
        "        Initial state probabilities: Pi[i] is the probability x[0] == i. If\n",
        "        None, uniform initial distribution is assumed (Pi[:] == 1/K).\n",
        "\n",
        "    Returns\n",
        "    -------\n",
        "    x : array (T,)\n",
        "        Maximum a posteriori probability estimate of hidden state trajectory,\n",
        "        conditioned on observation sequence y under the model parameters A, B,\n",
        "        Pi.\n",
        "    T1: array (K, T)\n",
        "        the probability of the most likely path so far\n",
        "    T2: array (K, T)\n",
        "        the x_j-1 of the most likely path so far\n",
        "    \"\"\"\n",
        "    # Cardinality of the state space\n",
        "    K = A.shape[0]\n",
        "    # Initialize the priors with default (uniform dist) if not given by caller\n",
        "    Pi = Pi if Pi is not None else np.full(K, 1 / K)\n",
        "    T = len(y)\n",
        "    T1 = np.empty((K, T), 'd')\n",
        "    T2 = np.empty((K, T), 'B')\n",
        "\n",
        "    # Initilaize the tracking tables from first observation\n",
        "    T1[:, 0] = Pi * B[:, y[0]]\n",
        "    T2[:, 0] = 0\n",
        "\n",
        "    # Iterate throught the observations updating the tracking tables\n",
        "    for i in range(1, T):\n",
        "        T1[:, i] = np.sum(T1[:, i - 1] * A.T * B[np.newaxis, :, y[i]].T, 1)\n",
        "        T2[:, i] = np.argmax(T1[:, i - 1] * A.T, 1)\n",
        "\n",
        "    # Build the output, optimal model trajectory\n",
        "    x = np.empty(T, 'B')\n",
        "    x[-1] = np.argmax(T1[:, T - 1])\n",
        "    for i in reversed(range(1, T)):\n",
        "        x[i - 1] = T2[x[i], i]\n",
        "\n",
        "    return x, T1, T2"
      ],
      "execution_count": null,
      "outputs": []
    },
    {
      "cell_type": "code",
      "metadata": {
        "colab": {
          "base_uri": "https://localhost:8080/"
        },
        "id": "3WBQoPS91SZ0",
        "outputId": "3ae9aaf5-ffc0-43bb-b888-eaeb293d80fa"
      },
      "source": [
        "# Define model parameters\n",
        "A = np.array([[0.7, 0.3], \n",
        "              [0.4, 0.6]])\n",
        "\n",
        "C = np.array([0.6, 0.4])\n",
        "\n",
        "B = np.array([[0.1, 0.4, 0.5], \n",
        "              [0.6, 0.3, 0.1]])\n",
        "\n",
        "\n",
        "O = np.array([1, 2, 0]).astype(np.int32)\n",
        "\n",
        "# Apply Viterbi algorithm\n",
        "S_opt, D, E = viterbiSum(O,A,B, C)\n",
        "#\n",
        "print('Observation sequence:   O = ', O)\n",
        "print('Optimal state sequence: S = ', S_opt)\n",
        "np.set_printoptions(formatter={'float': \"{: 7.4f}\".format})\n",
        "print('D =', D, sep='\\n')\n",
        "np.set_printoptions(formatter={'float': \"{: 7.0f}\".format})\n",
        "print('E =', E, sep='\\n')"
      ],
      "execution_count": null,
      "outputs": [
        {
          "output_type": "stream",
          "text": [
            "Observation sequence:   O =  [1 2 0]\n",
            "Optimal state sequence: S =  [0 0 1]\n",
            "D =\n",
            "[[ 0.2400  0.1080  0.0081]\n",
            " [ 0.1200  0.0144  0.0246]]\n",
            "E =\n",
            "[[0 0 0]\n",
            " [0 0 0]]\n"
          ],
          "name": "stdout"
        }
      ]
    },
    {
      "cell_type": "code",
      "metadata": {
        "id": "oGmwBpGW1UW_"
      },
      "source": [
        ""
      ],
      "execution_count": null,
      "outputs": []
    }
  ]
}